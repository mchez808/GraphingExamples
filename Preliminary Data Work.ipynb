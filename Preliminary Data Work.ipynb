{
 "cells": [
  {
   "cell_type": "code",
   "execution_count": 1,
   "metadata": {
    "collapsed": true
   },
   "outputs": [],
   "source": [
    "import pandas as pd\n",
    "from pandas import Series,DataFrame\n",
    "import numpy as np\n",
    "import re\n",
    "import os"
   ]
  },
  {
   "cell_type": "code",
   "execution_count": 2,
   "metadata": {
    "collapsed": true
   },
   "outputs": [],
   "source": [
    "# For Visualization\n",
    "import matplotlib.pyplot as plt\n",
    "import seaborn as sns\n",
    "sns.set_style('whitegrid')#give a nice white grid background for visualizations\n",
    "#plt.switch_backend('GTKAgg')\n",
    "%matplotlib inline"
   ]
  },
  {
   "cell_type": "code",
   "execution_count": 3,
   "metadata": {},
   "outputs": [],
   "source": [
    "location='C://Users/pmlef/Documents/Python_work/Python_for_Data_Analysis/GeoSpatial Data/data/'\n",
    "df_det_trim=pd.read_csv(location+'detail_trim2.csv',na_values=\".\", encoding='utf-8')"
   ]
  },
  {
   "cell_type": "code",
   "execution_count": 4,
   "metadata": {},
   "outputs": [
    {
     "data": {
      "text/html": [
       "<div>\n",
       "<style>\n",
       "    .dataframe thead tr:only-child th {\n",
       "        text-align: right;\n",
       "    }\n",
       "\n",
       "    .dataframe thead th {\n",
       "        text-align: left;\n",
       "    }\n",
       "\n",
       "    .dataframe tbody tr th {\n",
       "        vertical-align: top;\n",
       "    }\n",
       "</style>\n",
       "<table border=\"1\" class=\"dataframe\">\n",
       "  <thead>\n",
       "    <tr style=\"text-align: right;\">\n",
       "      <th></th>\n",
       "      <th>BEGIN_DATE_TIME</th>\n",
       "      <th>YEAR</th>\n",
       "      <th>MONTH_NAME</th>\n",
       "      <th>BEGIN_DAY</th>\n",
       "      <th>BEGIN_TIME</th>\n",
       "      <th>EPISODE_ID</th>\n",
       "      <th>EVENT_ID</th>\n",
       "      <th>STATE</th>\n",
       "      <th>EVENT_TYPE</th>\n",
       "      <th>CZ_TIMEZONE</th>\n",
       "      <th>INJURIES_DIRECT</th>\n",
       "      <th>INJURIES_INDIRECT</th>\n",
       "      <th>DEATHS_DIRECT</th>\n",
       "      <th>DEATHS_INDIRECT</th>\n",
       "      <th>DAMAGE_PROPERTY</th>\n",
       "      <th>DAMAGE_CROPS</th>\n",
       "      <th>BEGIN_LAT</th>\n",
       "      <th>BEGIN_LON</th>\n",
       "    </tr>\n",
       "  </thead>\n",
       "  <tbody>\n",
       "    <tr>\n",
       "      <th>0</th>\n",
       "      <td>28-APR-50 14:45:00</td>\n",
       "      <td>1950</td>\n",
       "      <td>April</td>\n",
       "      <td>28</td>\n",
       "      <td>1445</td>\n",
       "      <td>NaN</td>\n",
       "      <td>10096222</td>\n",
       "      <td>OKLAHOMA</td>\n",
       "      <td>Tornado</td>\n",
       "      <td>CST</td>\n",
       "      <td>0</td>\n",
       "      <td>0</td>\n",
       "      <td>0</td>\n",
       "      <td>0</td>\n",
       "      <td>250000.0</td>\n",
       "      <td>NaN</td>\n",
       "      <td>35.12</td>\n",
       "      <td>-99.20</td>\n",
       "    </tr>\n",
       "    <tr>\n",
       "      <th>1</th>\n",
       "      <td>29-APR-50 15:30:00</td>\n",
       "      <td>1950</td>\n",
       "      <td>April</td>\n",
       "      <td>29</td>\n",
       "      <td>1530</td>\n",
       "      <td>NaN</td>\n",
       "      <td>10120412</td>\n",
       "      <td>TEXAS</td>\n",
       "      <td>Tornado</td>\n",
       "      <td>CST</td>\n",
       "      <td>0</td>\n",
       "      <td>0</td>\n",
       "      <td>0</td>\n",
       "      <td>0</td>\n",
       "      <td>25000.0</td>\n",
       "      <td>NaN</td>\n",
       "      <td>31.90</td>\n",
       "      <td>-98.60</td>\n",
       "    </tr>\n",
       "    <tr>\n",
       "      <th>2</th>\n",
       "      <td>05-JUL-50 18:00:00</td>\n",
       "      <td>1950</td>\n",
       "      <td>July</td>\n",
       "      <td>5</td>\n",
       "      <td>1800</td>\n",
       "      <td>NaN</td>\n",
       "      <td>10104927</td>\n",
       "      <td>PENNSYLVANIA</td>\n",
       "      <td>Tornado</td>\n",
       "      <td>CST</td>\n",
       "      <td>2</td>\n",
       "      <td>0</td>\n",
       "      <td>0</td>\n",
       "      <td>0</td>\n",
       "      <td>25000.0</td>\n",
       "      <td>NaN</td>\n",
       "      <td>40.58</td>\n",
       "      <td>-75.70</td>\n",
       "    </tr>\n",
       "    <tr>\n",
       "      <th>3</th>\n",
       "      <td>05-JUL-50 18:30:00</td>\n",
       "      <td>1950</td>\n",
       "      <td>July</td>\n",
       "      <td>5</td>\n",
       "      <td>1830</td>\n",
       "      <td>NaN</td>\n",
       "      <td>10104928</td>\n",
       "      <td>PENNSYLVANIA</td>\n",
       "      <td>Tornado</td>\n",
       "      <td>CST</td>\n",
       "      <td>0</td>\n",
       "      <td>0</td>\n",
       "      <td>0</td>\n",
       "      <td>0</td>\n",
       "      <td>2500.0</td>\n",
       "      <td>NaN</td>\n",
       "      <td>40.60</td>\n",
       "      <td>-76.75</td>\n",
       "    </tr>\n",
       "    <tr>\n",
       "      <th>4</th>\n",
       "      <td>24-JUL-50 14:40:00</td>\n",
       "      <td>1950</td>\n",
       "      <td>July</td>\n",
       "      <td>24</td>\n",
       "      <td>1440</td>\n",
       "      <td>NaN</td>\n",
       "      <td>10104929</td>\n",
       "      <td>PENNSYLVANIA</td>\n",
       "      <td>Tornado</td>\n",
       "      <td>CST</td>\n",
       "      <td>0</td>\n",
       "      <td>0</td>\n",
       "      <td>0</td>\n",
       "      <td>0</td>\n",
       "      <td>2500.0</td>\n",
       "      <td>NaN</td>\n",
       "      <td>41.63</td>\n",
       "      <td>-79.68</td>\n",
       "    </tr>\n",
       "  </tbody>\n",
       "</table>\n",
       "</div>"
      ],
      "text/plain": [
       "      BEGIN_DATE_TIME  YEAR MONTH_NAME  BEGIN_DAY  BEGIN_TIME  EPISODE_ID  \\\n",
       "0  28-APR-50 14:45:00  1950      April         28        1445         NaN   \n",
       "1  29-APR-50 15:30:00  1950      April         29        1530         NaN   \n",
       "2  05-JUL-50 18:00:00  1950       July          5        1800         NaN   \n",
       "3  05-JUL-50 18:30:00  1950       July          5        1830         NaN   \n",
       "4  24-JUL-50 14:40:00  1950       July         24        1440         NaN   \n",
       "\n",
       "   EVENT_ID         STATE EVENT_TYPE CZ_TIMEZONE  INJURIES_DIRECT  \\\n",
       "0  10096222      OKLAHOMA    Tornado         CST                0   \n",
       "1  10120412         TEXAS    Tornado         CST                0   \n",
       "2  10104927  PENNSYLVANIA    Tornado         CST                2   \n",
       "3  10104928  PENNSYLVANIA    Tornado         CST                0   \n",
       "4  10104929  PENNSYLVANIA    Tornado         CST                0   \n",
       "\n",
       "   INJURIES_INDIRECT  DEATHS_DIRECT  DEATHS_INDIRECT  DAMAGE_PROPERTY  \\\n",
       "0                  0              0                0         250000.0   \n",
       "1                  0              0                0          25000.0   \n",
       "2                  0              0                0          25000.0   \n",
       "3                  0              0                0           2500.0   \n",
       "4                  0              0                0           2500.0   \n",
       "\n",
       "   DAMAGE_CROPS  BEGIN_LAT  BEGIN_LON  \n",
       "0           NaN      35.12     -99.20  \n",
       "1           NaN      31.90     -98.60  \n",
       "2           NaN      40.58     -75.70  \n",
       "3           NaN      40.60     -76.75  \n",
       "4           NaN      41.63     -79.68  "
      ]
     },
     "execution_count": 4,
     "metadata": {},
     "output_type": "execute_result"
    }
   ],
   "source": [
    "df_det_trim.head()"
   ]
  },
  {
   "cell_type": "code",
   "execution_count": 5,
   "metadata": {},
   "outputs": [
    {
     "name": "stdout",
     "output_type": "stream",
     "text": [
      "<class 'pandas.core.frame.DataFrame'>\n",
      "RangeIndex: 1471788 entries, 0 to 1471787\n",
      "Data columns (total 18 columns):\n",
      "BEGIN_DATE_TIME      1471788 non-null object\n",
      "YEAR                 1471788 non-null int64\n",
      "MONTH_NAME           1471788 non-null object\n",
      "BEGIN_DAY            1471788 non-null int64\n",
      "BEGIN_TIME           1471788 non-null int64\n",
      "EPISODE_ID           1239549 non-null float64\n",
      "EVENT_ID             1471788 non-null int64\n",
      "STATE                1471787 non-null object\n",
      "EVENT_TYPE           1471788 non-null object\n",
      "CZ_TIMEZONE          1471788 non-null object\n",
      "INJURIES_DIRECT      1471788 non-null int64\n",
      "INJURIES_INDIRECT    1471788 non-null int64\n",
      "DEATHS_DIRECT        1471788 non-null int64\n",
      "DEATHS_INDIRECT      1471788 non-null int64\n",
      "DAMAGE_PROPERTY      975523 non-null float64\n",
      "DAMAGE_CROPS         683088 non-null float64\n",
      "BEGIN_LAT            910254 non-null float64\n",
      "BEGIN_LON            910254 non-null float64\n",
      "dtypes: float64(5), int64(8), object(5)\n",
      "memory usage: 202.1+ MB\n"
     ]
    }
   ],
   "source": [
    "df_det_trim.info()"
   ]
  },
  {
   "cell_type": "code",
   "execution_count": 6,
   "metadata": {
    "collapsed": true
   },
   "outputs": [],
   "source": [
    "dmg_crops=df_det_trim['DAMAGE_CROPS']\n",
    "dmg_prop=df_det_trim['DAMAGE_PROPERTY']"
   ]
  },
  {
   "cell_type": "code",
   "execution_count": 7,
   "metadata": {},
   "outputs": [
    {
     "data": {
      "image/png": "[encoded data removed]",
      "text/plain": [
       "<matplotlib.figure.Figure at 0x21209e37400>"
      ]
     },
     "metadata": {},
     "output_type": "display_data"
    }
   ],
   "source": [
    "plt.hist(np.log10(dmg_crops[dmg_crops>0]),log=True)\n",
    "plt.title('Crop Damage Histogram')\n",
    "plt.xlabel('Base10 log of Crop Damage')\n",
    "plt.show()"
   ]
  },
  {
   "cell_type": "code",
   "execution_count": 8,
   "metadata": {},
   "outputs": [
    {
     "data": {
      "image/png": "[encoded data removed]",
      "text/plain": [
       "<matplotlib.figure.Figure at 0x2120cf6a080>"
      ]
     },
     "metadata": {},
     "output_type": "display_data"
    }
   ],
   "source": [
    "plt.hist(np.log10(dmg_prop[dmg_prop>0]),log=True)\n",
    "plt.title('Property Damage Histogram')\n",
    "plt.xlabel('Base10 log of Property Damage')\n",
    "plt.show()"
   ]
  },
  {
   "cell_type": "code",
   "execution_count": 9,
   "metadata": {},
   "outputs": [
    {
     "data": {
      "image/png": "[encoded data removed]",
      "text/plain": [
       "<matplotlib.figure.Figure at 0x2120cf44898>"
      ]
     },
     "metadata": {},
     "output_type": "display_data"
    }
   ],
   "source": [
    "name_list=['INJURIES_DIRECT', 'INJURIES_INDIRECT', 'DEATHS_DIRECT', 'DEATHS_INDIRECT']\n",
    "plt.figure(figsize=(10,10))\n",
    "for i in range(4):\n",
    "    plt.subplot(2,2,i+1)\n",
    "    name=name_list[i]\n",
    "    msk=df_det_trim[name]>0\n",
    "    plt.hist(np.log10(df_det_trim.loc[msk,name]),log=True)\n",
    "    plt.xlabel(name)\n",
    "\n",
    "plt.show()"
   ]
  },
  {
   "cell_type": "code",
   "execution_count": null,
   "metadata": {
    "collapsed": true
   },
   "outputs": [],
   "source": []
  },
  {
   "cell_type": "code",
   "execution_count": null,
   "metadata": {
    "collapsed": true
   },
   "outputs": [],
   "source": []
  },
  {
   "cell_type": "code",
   "execution_count": 41,
   "metadata": {
    "collapsed": true
   },
   "outputs": [],
   "source": [
    "df=df_det_trim"
   ]
  },
  {
   "cell_type": "code",
   "execution_count": 43,
   "metadata": {},
   "outputs": [
    {
     "data": {
      "text/html": [
       "<div>\n",
       "<style>\n",
       "    .dataframe thead tr:only-child th {\n",
       "        text-align: right;\n",
       "    }\n",
       "\n",
       "    .dataframe thead th {\n",
       "        text-align: left;\n",
       "    }\n",
       "\n",
       "    .dataframe tbody tr th {\n",
       "        vertical-align: top;\n",
       "    }\n",
       "</style>\n",
       "<table border=\"1\" class=\"dataframe\">\n",
       "  <thead>\n",
       "    <tr style=\"text-align: right;\">\n",
       "      <th></th>\n",
       "      <th>YEAR</th>\n",
       "      <th>BEGIN_DAY</th>\n",
       "      <th>BEGIN_TIME</th>\n",
       "      <th>EPISODE_ID</th>\n",
       "      <th>EVENT_ID</th>\n",
       "      <th>INJURIES_DIRECT</th>\n",
       "      <th>INJURIES_INDIRECT</th>\n",
       "      <th>DEATHS_DIRECT</th>\n",
       "      <th>DEATHS_INDIRECT</th>\n",
       "      <th>DAMAGE_PROPERTY</th>\n",
       "      <th>DAMAGE_CROPS</th>\n",
       "      <th>BEGIN_LAT</th>\n",
       "      <th>BEGIN_LON</th>\n",
       "    </tr>\n",
       "  </thead>\n",
       "  <tbody>\n",
       "    <tr>\n",
       "      <th>0</th>\n",
       "      <td>1950</td>\n",
       "      <td>3202</td>\n",
       "      <td>314212</td>\n",
       "      <td>NaN</td>\n",
       "      <td>2242278541</td>\n",
       "      <td>659</td>\n",
       "      <td>0</td>\n",
       "      <td>70</td>\n",
       "      <td>0</td>\n",
       "      <td>34.48165</td>\n",
       "      <td>NaN</td>\n",
       "      <td>8082.38</td>\n",
       "      <td>-20646.45</td>\n",
       "    </tr>\n",
       "    <tr>\n",
       "      <th>1</th>\n",
       "      <td>1951</td>\n",
       "      <td>4464</td>\n",
       "      <td>435777</td>\n",
       "      <td>NaN</td>\n",
       "      <td>2704694739</td>\n",
       "      <td>524</td>\n",
       "      <td>0</td>\n",
       "      <td>34</td>\n",
       "      <td>0</td>\n",
       "      <td>65.50599</td>\n",
       "      <td>NaN</td>\n",
       "      <td>10102.02</td>\n",
       "      <td>-25335.46</td>\n",
       "    </tr>\n",
       "    <tr>\n",
       "      <th>2</th>\n",
       "      <td>1952</td>\n",
       "      <td>4637</td>\n",
       "      <td>413442</td>\n",
       "      <td>NaN</td>\n",
       "      <td>2734846526</td>\n",
       "      <td>1916</td>\n",
       "      <td>0</td>\n",
       "      <td>231</td>\n",
       "      <td>0</td>\n",
       "      <td>94.30224</td>\n",
       "      <td>NaN</td>\n",
       "      <td>10019.16</td>\n",
       "      <td>-24811.34</td>\n",
       "    </tr>\n",
       "    <tr>\n",
       "      <th>3</th>\n",
       "      <td>1953</td>\n",
       "      <td>6857</td>\n",
       "      <td>766693</td>\n",
       "      <td>NaN</td>\n",
       "      <td>4948760119</td>\n",
       "      <td>5131</td>\n",
       "      <td>0</td>\n",
       "      <td>519</td>\n",
       "      <td>0</td>\n",
       "      <td>596.10470</td>\n",
       "      <td>NaN</td>\n",
       "      <td>18425.51</td>\n",
       "      <td>-45633.11</td>\n",
       "    </tr>\n",
       "    <tr>\n",
       "      <th>4</th>\n",
       "      <td>1954</td>\n",
       "      <td>10364</td>\n",
       "      <td>907416</td>\n",
       "      <td>NaN</td>\n",
       "      <td>6125921867</td>\n",
       "      <td>715</td>\n",
       "      <td>0</td>\n",
       "      <td>36</td>\n",
       "      <td>0</td>\n",
       "      <td>85.80532</td>\n",
       "      <td>NaN</td>\n",
       "      <td>22554.09</td>\n",
       "      <td>-56320.36</td>\n",
       "    </tr>\n",
       "  </tbody>\n",
       "</table>\n",
       "</div>"
      ],
      "text/plain": [
       "   YEAR  BEGIN_DAY  BEGIN_TIME  EPISODE_ID    EVENT_ID  INJURIES_DIRECT  \\\n",
       "0  1950       3202      314212         NaN  2242278541              659   \n",
       "1  1951       4464      435777         NaN  2704694739              524   \n",
       "2  1952       4637      413442         NaN  2734846526             1916   \n",
       "3  1953       6857      766693         NaN  4948760119             5131   \n",
       "4  1954      10364      907416         NaN  6125921867              715   \n",
       "\n",
       "   INJURIES_INDIRECT  DEATHS_DIRECT  DEATHS_INDIRECT  DAMAGE_PROPERTY  \\\n",
       "0                  0             70                0         34.48165   \n",
       "1                  0             34                0         65.50599   \n",
       "2                  0            231                0         94.30224   \n",
       "3                  0            519                0        596.10470   \n",
       "4                  0             36                0         85.80532   \n",
       "\n",
       "   DAMAGE_CROPS  BEGIN_LAT  BEGIN_LON  \n",
       "0           NaN    8082.38  -20646.45  \n",
       "1           NaN   10102.02  -25335.46  \n",
       "2           NaN   10019.16  -24811.34  \n",
       "3           NaN   18425.51  -45633.11  \n",
       "4           NaN   22554.09  -56320.36  "
      ]
     },
     "execution_count": 43,
     "metadata": {},
     "output_type": "execute_result"
    }
   ],
   "source": [
    "dfyear = df_det_trim.groupby(['YEAR'], as_index=False).sum()\n",
    "dfyear['DAMAGE_PROPERTY']=(dfyear['DAMAGE_PROPERTY']/1000000)\n",
    "dfyear.head()"
   ]
  },
  {
   "cell_type": "code",
   "execution_count": 49,
   "metadata": {},
   "outputs": [
    {
     "data": {
      "image/png": "[encoded data removed]",
      "text/plain": [
       "<matplotlib.figure.Figure at 0x2120d91ffd0>"
      ]
     },
     "metadata": {},
     "output_type": "display_data"
    }
   ],
   "source": [
    "import seaborn as sns\n",
    "\n",
    "plt.figure(figsize=(15, 10))\n",
    "plt.suptitle(\"Impact of weather events in the US, 1950 - 2017\")\n",
    "\n",
    "plt.subplot(3,1,1)\n",
    "ax=sns.barplot(x='YEAR',y='INJURIES_DIRECT', data=dfyear)\n",
    "sns.despine()\n",
    "plt.ylabel('injuries')\n",
    "plt.setp(ax.get_xticklabels(), rotation=90)\n",
    "plt.tight_layout()\n",
    "\n",
    "plt.subplot(3,1,2)\n",
    "ax=sns.barplot(x='YEAR',y='DEATHS_DIRECT', data=dfyear)\n",
    "sns.despine()\n",
    "plt.ylabel('deaths')\n",
    "plt.setp(ax.get_xticklabels(), rotation=90)\n",
    "plt.tight_layout()\n",
    "\n",
    "plt.subplot(3,1,3)\n",
    "ax=sns.barplot(x='YEAR',y=dfyear['DAMAGE_PROPERTY'], data=dfyear)\n",
    "sns.despine()\n",
    "plt.ylabel('property damage ($ Millions)')\n",
    "plt.setp(ax.get_xticklabels(), rotation=90)\n",
    "plt.tight_layout()"
   ]
  },
  {
   "cell_type": "code",
   "execution_count": null,
   "metadata": {
    "collapsed": true
   },
   "outputs": [],
   "source": []
  }
 ],
 "metadata": {
  "kernelspec": {
   "display_name": "Python 3",
   "language": "python",
   "name": "python3"
  },
  "language_info": {
   "codemirror_mode": {
    "name": "ipython",
    "version": 3
   },
   "file_extension": ".py",
   "mimetype": "text/x-python",
   "name": "python",
   "nbconvert_exporter": "python",
   "pygments_lexer": "ipython3",
   "version": "3.6.3"
  }
 },
 "nbformat": 4,
 "nbformat_minor": 2
}
